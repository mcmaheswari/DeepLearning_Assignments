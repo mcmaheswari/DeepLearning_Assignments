{
 "cells": [
  {
   "cell_type": "markdown",
   "metadata": {},
   "source": [
    "# Assignment"
   ]
  },
  {
   "cell_type": "markdown",
   "metadata": {},
   "source": [
    "Q1. Write the Python program to add, subtract, multiply and divide\n",
    "two pandas series ?\n",
    "\n",
    "    Sample Series- [2, 4, 6, 8, 10], [1, 3, 5, 7, 9]"
   ]
  },
  {
   "cell_type": "code",
   "execution_count": 1,
   "metadata": {},
   "outputs": [
    {
     "name": "stdout",
     "output_type": "stream",
     "text": [
      "Add two Series:\n",
      "0     3\n",
      "1     7\n",
      "2    11\n",
      "3    15\n",
      "4    19\n",
      "dtype: int64\n",
      "Subtract two Series:\n",
      "0    1\n",
      "1    1\n",
      "2    1\n",
      "3    1\n",
      "4    1\n",
      "dtype: int64\n",
      "Multiply two Series:\n",
      "0     2\n",
      "1    12\n",
      "2    30\n",
      "3    56\n",
      "4    90\n",
      "dtype: int64\n",
      "Divide Series1 by Series2:\n",
      "0    2.000000\n",
      "1    1.333333\n",
      "2    1.200000\n",
      "3    1.142857\n",
      "4    1.111111\n",
      "dtype: float64\n"
     ]
    }
   ],
   "source": [
    "import pandas as pd\n",
    "ds1 = pd.Series([2, 4, 6, 8, 10])\n",
    "ds2 = pd.Series([1, 3, 5, 7, 9])\n",
    "ds = ds1 + ds2\n",
    "print(\"Add two Series:\")\n",
    "print(ds)\n",
    "print(\"Subtract two Series:\")\n",
    "ds = ds1 - ds2\n",
    "print(ds)\n",
    "print(\"Multiply two Series:\")\n",
    "ds = ds1 * ds2\n",
    "print(ds)\n",
    "print(\"Divide Series1 by Series2:\")\n",
    "ds = ds1 / ds2\n",
    "print(ds)"
   ]
  },
  {
   "cell_type": "markdown",
   "metadata": {},
   "source": [
    "Q2. Write a Python program to convert a dictionary to the Pandas\n",
    "Series?\n",
    "    \n",
    "    Sample SeriesOriginal dictionary-\n",
    "    {'a': 100, 'b': 200, 'c': 300, 'd': 400, 'e': 800}\n",
    "    Converted series -\n",
    "    a 100\n",
    "    b 200\n",
    "    c 300\n",
    "    d 400\n",
    "    e 800\n",
    "    dtype- int64"
   ]
  },
  {
   "cell_type": "code",
   "execution_count": 3,
   "metadata": {},
   "outputs": [
    {
     "name": "stdout",
     "output_type": "stream",
     "text": [
      "Original dictionary:\n",
      "{'a': 100, 'b': 200, 'c': 300, 'd': 400, 'e': 800}\n",
      "Converted series:\n",
      "a    100\n",
      "b    200\n",
      "c    300\n",
      "d    400\n",
      "e    800\n",
      "dtype: int64\n"
     ]
    }
   ],
   "source": [
    "import pandas as pd\n",
    "d1 = {'a': 100, 'b': 200, 'c':300, 'd':400, 'e':800}\n",
    "print(\"Original dictionary:\")\n",
    "print(d1)\n",
    "new_series = pd.Series(d1)\n",
    "print(\"Converted series:\")\n",
    "print(new_series)"
   ]
  },
  {
   "cell_type": "markdown",
   "metadata": {},
   "source": [
    "Q3. Write a python program to change the data type of given a\n",
    "column or a Series?\n",
    "\n",
    "    Sample SeriesOriginal Data Series0 100\n",
    "    1 200\n",
    "    2 python\n",
    "    3 300.12\n",
    "    4 400\n",
    "    dtype- object\n",
    "    Change the said data type to numeric0 100.00\n",
    "    1 200.00\n",
    "    2 NaN\n",
    "    3 300.12\n",
    "    4 400.00\n",
    "    dtype- float64\n"
   ]
  },
  {
   "cell_type": "code",
   "execution_count": null,
   "metadata": {},
   "outputs": [],
   "source": [
    "import pandas as pd\n",
    "s1 = pd.Series(['100', '200', 'python', '300.12', '400'])\n",
    "print(\"Original Data Series:\")\n",
    "print(s1)\n",
    "print(\"Change the said data type to numeric:\")\n",
    "s2 = pd.to_numeric(s1, errors='coerce')\n",
    "print(s2)"
   ]
  },
  {
   "cell_type": "markdown",
   "metadata": {},
   "source": [
    "Q4. Write the python pandas program to convert the first column of a\n",
    "DataFrame as a Series?\n",
    "\n",
    "    Sample OutputOriginal DataFramecol1 col2 col3\n",
    "    0 1 4 7\n",
    "    1 2 5 5\n",
    "    2 3 6 8\n",
    "    3 4 9 12\n",
    "    4 7 5 1\n",
    "    5 11 0 11\n",
    "    1st column as a Series0 1\n",
    "    1 2\n",
    "    2 3\n",
    "    3 4\n",
    "    4 7\n",
    "    5 11\n",
    "    Name- col1, dtype- int64\n",
    "    <class 'pandas.core.series.Series'>"
   ]
  },
  {
   "cell_type": "code",
   "execution_count": 5,
   "metadata": {},
   "outputs": [
    {
     "name": "stdout",
     "output_type": "stream",
     "text": [
      "Original DataFrame\n",
      "   col1  col2  col3\n",
      "0     1     4     7\n",
      "1     2     5     5\n",
      "2     3     6     8\n",
      "3     4     9    12\n",
      "4     7     5     1\n",
      "5    11     0    11\n",
      "\n",
      "1st column as a Series:\n",
      "0     1\n",
      "1     2\n",
      "2     3\n",
      "3     4\n",
      "4     7\n",
      "5    11\n",
      "Name: col1, dtype: int64\n",
      "<class 'pandas.core.series.Series'>\n"
     ]
    }
   ],
   "source": [
    "import pandas as pd\n",
    "d = {'col1': [1, 2, 3, 4, 7, 11], 'col2': [4, 5, 6, 9, 5, 0], 'col3': [7, 5, 8, 12, 1,11]}\n",
    "df = pd.DataFrame(data=d)\n",
    "print(\"Original DataFrame\")\n",
    "print(df)\n",
    "s1 = df.iloc[:,0]\n",
    "print(\"\\n1st column as a Series:\")\n",
    "print(s1)\n",
    "print(type(s1))"
   ]
  },
  {
   "cell_type": "markdown",
   "metadata": {},
   "source": [
    "Q5. Write a pandas program to create the mean and standard\n",
    "deviation of the data of a given Series?\n",
    "\n",
    "    Sample OutputOriginal Data Series0 1\n",
    "    1 2\n",
    "    2 3\n",
    "    3 4\n",
    "    4 5\n",
    "    5 6\n",
    "    6 7\n",
    "    7 8\n",
    "    8 9\n",
    "    9 5\n",
    "    10 3\n",
    "    dtype- int64\n",
    "    Mean of the said Data Series4.81818181818\n",
    "    Standard deviation of the said Data Series2.52262489555"
   ]
  },
  {
   "cell_type": "code",
   "execution_count": 1,
   "metadata": {},
   "outputs": [
    {
     "name": "stdout",
     "output_type": "stream",
     "text": [
      "Original Data Series:\n",
      "0     1\n",
      "1     2\n",
      "2     3\n",
      "3     4\n",
      "4     5\n",
      "5     6\n",
      "6     7\n",
      "7     8\n",
      "8     9\n",
      "9     5\n",
      "10    3\n",
      "dtype: int64\n",
      "Mean of the said Data Series:\n",
      "4.818181818181818\n",
      "Standard deviation of the said Data Series:\n",
      "2.522624895547565\n"
     ]
    }
   ],
   "source": [
    "import pandas as pd\n",
    "s = pd.Series(data = [1,2,3,4,5,6,7,8,9,5,3])\n",
    "print(\"Original Data Series:\")\n",
    "print(s)\n",
    "print(\"Mean of the said Data Series:\")\n",
    "print(s.mean())\n",
    "print(\"Standard deviation of the said Data Series:\")\n",
    "print(s.std())"
   ]
  },
  {
   "cell_type": "markdown",
   "metadata": {},
   "source": [
    "Q6. Write a pandas program to get powers of an array values\n",
    "element-wise?\n",
    " \n",
    "Note First array elements raised the powers from the second array.\n",
    "\n",
    "    Sample data: {'X ':[78,85,96,80,86], ' Y ':[84,94,89,83,86],'Z':[86,97,96,72,83]}\n",
    "    Expected Output:\n",
    "    X Y Z\n",
    "    0 78 84 86\n",
    "    1 85 94 97\n",
    "    2 96 89 96\n",
    "    3 80 83 72\n",
    "    4 86 86 83"
   ]
  },
  {
   "cell_type": "code",
   "execution_count": 3,
   "metadata": {},
   "outputs": [
    {
     "data": {
      "text/html": [
       "<div>\n",
       "<style scoped>\n",
       "    .dataframe tbody tr th:only-of-type {\n",
       "        vertical-align: middle;\n",
       "    }\n",
       "\n",
       "    .dataframe tbody tr th {\n",
       "        vertical-align: top;\n",
       "    }\n",
       "\n",
       "    .dataframe thead th {\n",
       "        text-align: right;\n",
       "    }\n",
       "</style>\n",
       "<table border=\"1\" class=\"dataframe\">\n",
       "  <thead>\n",
       "    <tr style=\"text-align: right;\">\n",
       "      <th></th>\n",
       "      <th>A</th>\n",
       "      <th>B</th>\n",
       "      <th>C</th>\n",
       "      <th>D</th>\n",
       "    </tr>\n",
       "  </thead>\n",
       "  <tbody>\n",
       "    <tr>\n",
       "      <th>0</th>\n",
       "      <td>14</td>\n",
       "      <td>125</td>\n",
       "      <td>400</td>\n",
       "      <td>38416</td>\n",
       "    </tr>\n",
       "    <tr>\n",
       "      <th>1</th>\n",
       "      <td>1024</td>\n",
       "      <td>4</td>\n",
       "      <td>400</td>\n",
       "      <td>27</td>\n",
       "    </tr>\n",
       "    <tr>\n",
       "      <th>2</th>\n",
       "      <td>125</td>\n",
       "      <td>8503056</td>\n",
       "      <td>823543</td>\n",
       "      <td>46656</td>\n",
       "    </tr>\n",
       "    <tr>\n",
       "      <th>3</th>\n",
       "      <td>256</td>\n",
       "      <td>27</td>\n",
       "      <td>27</td>\n",
       "      <td>4096</td>\n",
       "    </tr>\n",
       "    <tr>\n",
       "      <th>4</th>\n",
       "      <td>1</td>\n",
       "      <td>16</td>\n",
       "      <td>4096</td>\n",
       "      <td>279936</td>\n",
       "    </tr>\n",
       "  </tbody>\n",
       "</table>\n",
       "</div>"
      ],
      "text/plain": [
       "      A        B       C       D\n",
       "0    14      125     400   38416\n",
       "1  1024        4     400      27\n",
       "2   125  8503056  823543   46656\n",
       "3   256       27      27    4096\n",
       "4     1       16    4096  279936"
      ]
     },
     "execution_count": 3,
     "metadata": {},
     "output_type": "execute_result"
    }
   ],
   "source": [
    "# importing pandas as pd \n",
    "import pandas as pd \n",
    "  \n",
    "# Creating the first dataframe  \n",
    "df1 = pd.DataFrame({\"A\":[14, 4, 5, 4, 1], \n",
    "                    \"B\":[5, 2, 54, 3, 2],  \n",
    "                    \"C\":[20, 20, 7, 3, 8], \n",
    "                    \"D\":[14, 3, 6, 2, 6]}) \n",
    "  \n",
    "# Creating the second dataframe \n",
    "df2 = pd.DataFrame({\"A\":[1, 5, 3, 4, 2], \n",
    "                    \"B\":[3, 2, 4, 3, 4], \n",
    "                    \"C\":[2, 2, 7, 3, 4], \n",
    "                    \"D\":[4, 3, 6, 12, 7]}) \n",
    "  \n",
    "# using pow() function to raise each element \n",
    "# in df1 to the power of corresponding element in df2 \n",
    "df1.pow(df2) "
   ]
  },
  {
   "cell_type": "markdown",
   "metadata": {},
   "source": [
    "Q7. Write the pandas program to get the first 3 rows of a given\n",
    "DataFrame?\n",
    "\n",
    "    Sample Python dictionary data and list labelsexam_data = {'name': ['Anastasia', 'Dima', 'Katherine', 'James', 'Emily', 'Michael',\n",
    "    'Matthew', 'Laura', 'Kevin', 'Jonas'],\n",
    "    'score': [12.5, 9, 16.5, np.nan, 9, 20, 14.5, np.nan, 8, 19],\n",
    "    'attempts'- [1, 3, 2, 3, 2, 3, 1, 1, 2, 1],\n",
    "    'qualify'- [ 'yes', 'no', 'yes' , 'no', ' no ', ' yes ', 'yes', 'no', 'no', 'yes' ] }\n",
    "    labels = ['a', 'b', 'c', 'd', 'e', 'f', 'g', 'h', 'i', 'j' ]\n",
    "    Expected OutputFirst three rows of the data frameattempts name qualify score\n",
    "    a 1 Anastasia yes 12.5\n",
    "    b 3 Dima no 9.0\n",
    "    c 2 Katherine yes 16.5"
   ]
  },
  {
   "cell_type": "code",
   "execution_count": 2,
   "metadata": {},
   "outputs": [
    {
     "name": "stdout",
     "output_type": "stream",
     "text": [
      "First three rows of the data frame:\n",
      "        name  score  attempts qualify\n",
      "a  Anastasia   12.5         1     yes\n",
      "b       Dima    9.0         3      no\n",
      "c  Katherine   16.5         2     yes\n"
     ]
    }
   ],
   "source": [
    "import pandas as pd\n",
    "import numpy as np\n",
    "\n",
    "exam_data  = {'name': ['Anastasia', 'Dima', 'Katherine', 'James', 'Emily', 'Michael', 'Matthew', 'Laura', 'Kevin', 'Jonas'],\n",
    "        'score': [12.5, 9, 16.5, np.nan, 9, 20, 14.5, np.nan, 8, 19],\n",
    "        'attempts': [1, 3, 2, 3, 2, 3, 1, 1, 2, 1],\n",
    "        'qualify': ['yes', 'no', 'yes', 'no', 'no', 'yes', 'yes', 'no', 'no', 'yes']}\n",
    "labels = ['a', 'b', 'c', 'd', 'e', 'f', 'g', 'h', 'i', 'j']\n",
    "\n",
    "df = pd.DataFrame(exam_data , index=labels)\n",
    "print(\"First three rows of the data frame:\")\n",
    "print(df.iloc[:3])"
   ]
  },
  {
   "cell_type": "markdown",
   "metadata": {},
   "source": [
    "Q8: Write the pandas program to select the specified columns and\n",
    "the rows from a given data frame?\n",
    "\n",
    "    Sample Python dictionary data and list labelsSelect 'name' and 'score' columns in rows 1, 3, 5, 6 from the following data frame.\n",
    "    exam_data = {'name ': [ 'Anastasia', 'Dima', 'Katherine', 'James', 'Emily', 'Michael',\n",
    "    'Matthew', 'Laura', 'Kevin', 'Jonas'],\n",
    "    'score'- [12.5, 9, 16.5, np.nan, 9, 20, 14.5, np.nan, 8, 19],\n",
    "    'attempts'- [1, 3, 2, 3, 2, 3, 1, 1, 2, 1],\n",
    "    'qualify'- ['yes', 'no', 'yes', 'no', 'no', 'yes', 'yes', 'no', 'no', 'yes'] }\n",
    "    labels = ['a ', ' b ', ' c ', ' d ', ' e ', ' f ', ' g ', 'h', 'i', 'j']\n",
    "    Expected OutputSelect specific columns and rowsname score\n",
    "    b Dima 9.0\n",
    "    d James NaN\n",
    "    f Michael 20.0\n",
    "    g Matthew 14.5"
   ]
  },
  {
   "cell_type": "code",
   "execution_count": 4,
   "metadata": {},
   "outputs": [
    {
     "name": "stdout",
     "output_type": "stream",
     "text": [
      "Select specific columns and rows:\n",
      "   score qualify\n",
      "b    9.0      no\n",
      "d    NaN      no\n",
      "f   20.0     yes\n",
      "g   14.5     yes\n"
     ]
    }
   ],
   "source": [
    "import pandas as pd\n",
    "import numpy as np\n",
    "\n",
    "exam_data  = {'name': ['Anastasia', 'Dima', 'Katherine', 'James', 'Emily', 'Michael', 'Matthew', 'Laura', 'Kevin', 'Jonas'],\n",
    "        'score': [12.5, 9, 16.5, np.nan, 9, 20, 14.5, np.nan, 8, 19],\n",
    "        'attempts': [1, 3, 2, 3, 2, 3, 1, 1, 2, 1],\n",
    "        'qualify': ['yes', 'no', 'yes', 'no', 'no', 'yes', 'yes', 'no', 'no', 'yes']}\n",
    "labels = ['a', 'b', 'c', 'd', 'e', 'f', 'g', 'h', 'i', 'j']\n",
    "\n",
    "df = pd.DataFrame(exam_data , index=labels)\n",
    "print(\"Select specific columns and rows:\")\n",
    "print(df.iloc[[1, 3, 5, 6], [1, 3]])"
   ]
  },
  {
   "cell_type": "markdown",
   "metadata": {},
   "source": [
    "Q9. Write the pandas program to calculate mean score for each\n",
    "different student in DataFrame?\n",
    "\n",
    "    Sample Python dictionary data and list labelsexam_data = {'name': ['Anastasia', 'Dima', 'Katherine', 'James', 'Emily', 'Michael',\n",
    "    'Matthew', 'Laura', 'Kevin', 'Jonas'],\n",
    "    'score': [12.5, 9, 16.5, np.nan, 9, 20, 14.5, np.nan, 8, 19],\n",
    "    'attempts'- [1, 3, 2, 3, 2, 3, 1, 1, 2, 1],\n",
    "    'qualify'- ['yes', 'no', ' yes ', ' no ', ' no ', ' yes ', ' yes ', ' no ', ' no ', ' yes '] }\n",
    "    labels = ['a', 'b', 'c', 'd', 'e', 'f', 'g', 'h', 'i', 'j']\n",
    "    Expected OutputMean score for each different student in data frame:\n",
    "    13.5625"
   ]
  },
  {
   "cell_type": "code",
   "execution_count": 6,
   "metadata": {},
   "outputs": [
    {
     "name": "stdout",
     "output_type": "stream",
     "text": [
      "\n",
      "Mean score for each different student in data frame:\n",
      "13.5625\n"
     ]
    }
   ],
   "source": [
    "import pandas as pd\n",
    "import numpy as np\n",
    "exam_data  = {'name': ['Anastasia', 'Dima', 'Katherine', 'James', 'Emily', 'Michael', 'Matthew', 'Laura', 'Kevin', 'Jonas'],\n",
    "        'score': [12.5, 9, 16.5, np.nan, 9, 20, 14.5, np.nan, 8, 19],\n",
    "        'attempts': [1, 3, 2, 3, 2, 3, 1, 1, 2, 1],\n",
    "        'qualify': ['yes', 'no', 'yes', 'no', 'no', 'yes', 'yes', 'no', 'no', 'yes']}\n",
    "labels = ['a', 'b', 'c', 'd', 'e', 'f', 'g', 'h', 'i', 'j']\n",
    "\n",
    "df = pd.DataFrame(exam_data , index=labels)\n",
    "print(\"\\nMean score for each different student in data frame:\")\n",
    "print(df['score'].mean())"
   ]
  },
  {
   "cell_type": "markdown",
   "metadata": {},
   "source": [
    "Q10. Write the Pandas program to rename columns of a given\n",
    "DataFrame ?\n",
    "\n",
    "    Sample dataOriginal data frame\n",
    "    col1 col2 col3\n",
    "    0 1 4 7\n",
    "    1 2 5 8\n",
    "    2 3 6 9\n",
    "    New data frame after renaming columns:\n",
    "    Column1 Column2 Column3\n",
    "    0 1 4 7\n",
    "    1 2 5 8\n",
    "    2 3 6 9"
   ]
  },
  {
   "cell_type": "code",
   "execution_count": 7,
   "metadata": {},
   "outputs": [
    {
     "name": "stdout",
     "output_type": "stream",
     "text": [
      "Original DataFrame\n",
      "   col1  col2  col3\n",
      "0     1     4     7\n",
      "1     2     5     8\n",
      "2     3     6     9\n",
      "New DataFrame after renaming columns:\n",
      "   Column1  Column2  Column3\n",
      "0        1        4        7\n",
      "1        2        5        8\n",
      "2        3        6        9\n"
     ]
    }
   ],
   "source": [
    "import pandas as pd\n",
    "d = {'col1': [1, 2, 3], 'col2': [4, 5, 6], 'col3': [7, 8, 9]}\n",
    "df = pd.DataFrame(data=d)\n",
    "print(\"Original DataFrame\")\n",
    "print(df)\n",
    "df.columns = ['Column1', 'Column2', 'Column3']\n",
    "df = df.rename(columns={'col1': 'Column1', 'col2': 'Column2', 'col3': 'Column3'})\n",
    "print(\"New DataFrame after renaming columns:\")\n",
    "print(df)"
   ]
  },
  {
   "cell_type": "markdown",
   "metadata": {},
   "source": [
    "Q11. Write a pandas program to count city-wise number of people from\n",
    "a given of data set (city, name of the person)?\n",
    "\n",
    "    Sample data-\n",
    "    city Number of people\n",
    "    0 California 4\n",
    "    1 Georgia 2\n",
    "    2 Los Angeles 4"
   ]
  },
  {
   "cell_type": "code",
   "execution_count": 8,
   "metadata": {},
   "outputs": [
    {
     "name": "stdout",
     "output_type": "stream",
     "text": [
      "          city  Number of people\n",
      "0   California                 4\n",
      "1      Georgia                 2\n",
      "2  Los Angeles                 4\n"
     ]
    }
   ],
   "source": [
    "import pandas as pd\n",
    "df1 = pd.DataFrame({'name': ['Anastasia', 'Dima', 'Katherine', 'James', 'Emily', 'Michael', 'Matthew', 'Laura', 'Kevin', 'Jonas'],\n",
    "'city': ['California', 'Los Angeles', 'California', 'California', 'California', 'Los Angeles', 'Los Angeles', 'Georgia', 'Georgia', 'Los Angeles']})\n",
    "g1 = df1.groupby([\"city\"]).size().reset_index(name='Number of people')\n",
    "print(g1)"
   ]
  },
  {
   "cell_type": "markdown",
   "metadata": {},
   "source": [
    "Q12. Write a pandas program to widen output display to see more\n",
    "columns?\n",
    "    \n",
    "    Sample dataOriginal data frame\n",
    "    col1 col2 col3\n",
    "    0 1 4 7\n",
    "    1 4 5 8\n",
    "    2 3 6 9\n",
    "    3 4 7 0\n",
    "    4 5 8 1"
   ]
  },
  {
   "cell_type": "code",
   "execution_count": 9,
   "metadata": {},
   "outputs": [
    {
     "name": "stdout",
     "output_type": "stream",
     "text": [
      "Original DataFrame\n",
      "   col1  col2  col3\n",
      "0     1     4     7\n",
      "1     4     5     8\n",
      "2     3     6     9\n",
      "3     4     7     0\n",
      "4     5     8     1\n"
     ]
    }
   ],
   "source": [
    "import pandas as pd\n",
    "import numpy as np\n",
    "d = {'col1': [1, 4, 3, 4, 5], 'col2': [4, 5, 6, 7, 8], 'col3': [7, 8, 9, 0, 1]}\n",
    "df = pd.DataFrame(data=d)\n",
    "pd.set_option('display.max_rows', 500)\n",
    "pd.set_option('display.max_columns', 500)\n",
    "pd.set_option('display.width', 1000)\n",
    "print(\"Original DataFrame\")\n",
    "print(df)"
   ]
  },
  {
   "cell_type": "markdown",
   "metadata": {},
   "source": [
    "Q13. Write a pandas program to convert the data frame column type\n",
    "from string to DateTime?\n",
    "    \n",
    "    Sample dataString Date0 3/11/2000\n",
    "    1 3/12/2000\n",
    "    2 3/13/2000\n",
    "    dtype- object\n",
    "    Original DataFrame (string to datetime)-\n",
    "    0\n",
    "    0 2000-03-11\n",
    "    1 2000-03-12\n",
    "    2 2000-03-13"
   ]
  },
  {
   "cell_type": "code",
   "execution_count": 10,
   "metadata": {},
   "outputs": [
    {
     "name": "stdout",
     "output_type": "stream",
     "text": [
      "String Date:\n",
      "0    3/11/2000\n",
      "1    3/12/2000\n",
      "2    3/13/2000\n",
      "dtype: object\n",
      "Original DataFrame (string to datetime):\n",
      "           0\n",
      "0 2000-03-11\n",
      "1 2000-03-12\n",
      "2 2000-03-13\n"
     ]
    }
   ],
   "source": [
    "import pandas as pd\n",
    "import numpy as np\n",
    "s = pd.Series(['3/11/2000', '3/12/2000', '3/13/2000'])\n",
    "print(\"String Date:\")\n",
    "print(s)\n",
    "r = pd.to_datetime(pd.Series(s))\n",
    "df = pd.DataFrame(r)\n",
    "print(\"Original DataFrame (string to datetime):\")\n",
    "print(df)"
   ]
  },
  {
   "cell_type": "markdown",
   "metadata": {},
   "source": [
    "Q14. Write a pandas program to append the data to an empty\n",
    "DataFrame?\n",
    "\n",
    "    Sample dataOriginal DataFrame- After appending some data: col1 col2 0 0 0 1 1 1 2 2 2"
   ]
  },
  {
   "cell_type": "code",
   "execution_count": 11,
   "metadata": {},
   "outputs": [
    {
     "name": "stdout",
     "output_type": "stream",
     "text": [
      "After appending some data:\n",
      "   col1  col2\n",
      "0     0     0\n",
      "1     1     1\n",
      "2     2     2\n"
     ]
    }
   ],
   "source": [
    "import pandas as pd\n",
    "import numpy as np\n",
    "df = pd.DataFrame()\n",
    "data = pd.DataFrame({\"col1\": range(3),\"col2\": range(3)})\n",
    "print(\"After appending some data:\")\n",
    "df = df.append(data)\n",
    "print(df)"
   ]
  },
  {
   "cell_type": "markdown",
   "metadata": {},
   "source": [
    "Q15. Write a pandas program to count the number of columns of a\n",
    "DataFrame?\n",
    "\n",
    "    Sample OutputOriginal DataFrame\n",
    "    col1 col2 col3\n",
    "    0 1 4 7\n",
    "    1 2 5 8\n",
    "    2 3 6 12\n",
    "    3 4 9 1\n",
    "    4 7 5 11\n",
    "    Number of columns- 3"
   ]
  },
  {
   "cell_type": "code",
   "execution_count": 13,
   "metadata": {},
   "outputs": [
    {
     "name": "stdout",
     "output_type": "stream",
     "text": [
      "Original DataFrame\n",
      "   col1  col2  col3\n",
      "0     1     4     7\n",
      "1     2     5     8\n",
      "2     3     6    12\n",
      "3     4     9     1\n",
      "4     7     5    11\n",
      "\n",
      "Number of columns:\n",
      "3\n"
     ]
    }
   ],
   "source": [
    "import pandas as pd\n",
    "d = {'col1': [1, 2, 3, 4, 7], 'col2': [4, 5, 6, 9, 5], 'col3': [7, 8, 12, 1, 11]}\n",
    "df = pd.DataFrame(d)\n",
    "print(\"Original DataFrame\")\n",
    "print(df)\n",
    "print(\"\\nNumber of columns:\")\n",
    "print(len(df.columns))"
   ]
  },
  {
   "cell_type": "markdown",
   "metadata": {},
   "source": [
    "Q16. Write a Pandas program to remove the last n rows of a given\n",
    "DataFrame ?\n",
    "\n",
    "    Sample Output:\n",
    "    Original DataFrame\n",
    "    col1 col2 col3\n",
    "    0 1 4 7\n",
    "    1 2 5 5\n",
    "    2 3 6 8\n",
    "    3 4 9 12\n",
    "    4 7 5 1\n",
    "    5 11 0 11\n",
    "    After removing last 3 rows of the said DataFramecol1 col2 col3\n",
    "    0 1 4 7\n",
    "    1 2 5 5\n",
    "    2 3 6 8\n",
    "    \n",
    "     Link for Datasets\n",
    "     (https://drive.google.com/drive/folders/105ftuIwN9kqyPNEEm3E6IM7LqywjyvJa?usp=sharing)"
   ]
  },
  {
   "cell_type": "code",
   "execution_count": 14,
   "metadata": {},
   "outputs": [
    {
     "name": "stdout",
     "output_type": "stream",
     "text": [
      "Original DataFrame\n",
      "   col1  col2  col3\n",
      "0     1     4     7\n",
      "1     2     5     5\n",
      "2     3     6     8\n",
      "3     4     9    12\n",
      "4     7     5     1\n",
      "5    11     0    11\n",
      "\n",
      "After removing last 3 rows of the said DataFrame:\n",
      "   col1  col2  col3\n",
      "0     1     4     7\n",
      "1     2     5     5\n",
      "2     3     6     8\n"
     ]
    }
   ],
   "source": [
    "import pandas as pd\n",
    "d = {'col1': [1, 2, 3, 4, 7, 11], 'col2': [4, 5, 6, 9, 5, 0], 'col3': [7, 5, 8, 12, 1,11]}\n",
    "df = pd.DataFrame(data=d)\n",
    "print(\"Original DataFrame\")\n",
    "print(df)\n",
    "print(\"\\nAfter removing last 3 rows of the said DataFrame:\")\n",
    "df1 = df.iloc[:3]\n",
    "print(df1)"
   ]
  },
  {
   "cell_type": "markdown",
   "metadata": {},
   "source": [
    "Q17. Write a Pandas program to import excel data (coalpublic2013.xlsx\n",
    ") into a Pandas data frame."
   ]
  },
  {
   "cell_type": "code",
   "execution_count": 16,
   "metadata": {},
   "outputs": [
    {
     "name": "stdout",
     "output_type": "stream",
     "text": [
      "    Year  MSHA ID                       Mine_Name  Production  Labor_Hours\n",
      "0   2013   103381            Tacoa Highwall Miner       56004        22392\n",
      "1   2013   103404                Reid School Mine       28807        28447\n",
      "2   2013   100759  North River #1 Underground Min     1440115       474784\n",
      "3   2013   103246                      Bear Creek       87587        29193\n",
      "4   2013   103451                     Knight Mine      147499        46393\n",
      "5   2013   103433              Crane Central Mine       69339        47195\n",
      "6   2013   100329                    Concord Mine           0       144002\n",
      "7   2013   100851                  Oak Grove Mine     2269014      1001809\n",
      "8   2013   102901                Shoal Creek Mine           0        12396\n",
      "9   2013   102901                Shoal Creek Mine     1453024      1237415\n",
      "10  2013   103180             Sloan Mountain Mine      327780       196963\n",
      "11  2013   103182                        Fishtrap      175058        87314\n",
      "12  2013   103285                     Narley Mine      154861        90584\n",
      "13  2013   103332                   Powhatan Mine      140521        61394\n",
      "14  2013   103375                    Johnson Mine         580         1900\n",
      "15  2013   103419               Maxine-Pratt Mine      125824       107469\n",
      "16  2013   103432                   Skelton Creek        8252          220\n",
      "17  2013   103437         Black Warrior Mine No 1      145924        70926\n",
      "18  2013   102976   Piney Woods Preparation Plant           0        14828\n",
      "19  2013   102976   Piney Woods Preparation Plant           0        23193\n",
      "20  2013   103380                          Calera           0        12621\n",
      "21  2013   103380                          Calera           0         1402\n",
      "22  2013   103422                 Clark No 1 Mine      122727       140250\n",
      "23  2013   103467             Helena Surface Mine       59664        30539\n",
      "24  2013   101247                       No 4 Mine     2622528      1551141\n",
      "25  2013   101401                       No 7 Mine     5405412      2464719\n",
      "26  2013   103172  Searles Mine No. 2, 3, 4, 5, 6      258078       119542\n",
      "27  2013   103179             Fleetwood Mine No 1       75937        63745\n",
      "28  2013   103303                    Shannon Mine      317491       164388\n",
      "29  2013   103323                   Deerlick Mine      133452        46381\n",
      "30  2013   103364           Brc Alabama No. 7 Llc           0        14324\n",
      "31  2013   103436                Swann's Crossing      137511        77190\n",
      "32  2013   100347                    Choctaw Mine      537429       215295\n",
      "33  2013   101362                 Manchester Mine      219457       116914\n",
      "34  2013   102996                  Jap Creek Mine      375715       164093\n",
      "35  2013   103155              Corinth Prep Plant           0        27996\n",
      "36  2013   103155              Corinth Prep Plant           0        51994\n",
      "37  2013   103195     Mccollum/Sparks Branch Mine       71910        17411\n",
      "38  2013   103342             Reese's Branch Mine      263888       115123\n",
      "39  2013   103370             Cresent Valley Mine        2860          621\n",
      "40  2013   103372                 Cane Creek Mine       66258        32401\n",
      "41  2013   103376                      Town Creek      299167       176499\n",
      "42  2013   103389                Carbon Hill Mine       76241        84966\n",
      "43  2013   103410                Coal Valley Mine      407841       158591\n",
      "44  2013   103423                Dutton Hill Mine       37275         9162\n",
      "45  2013  1519322                         Ghm #25       25054         3108\n",
      "46  2013   103321                  Poplar Springs      189370        76366\n",
      "47  2013   103358                       Old Union      284563       161805\n",
      "48  2013  5000030                        Usibelli     1631584       286079\n",
      "49  2013   201195                    Kayenta Mine     7602722      1015333\n"
     ]
    }
   ],
   "source": [
    "import pandas as pd\n",
    "df_excel = pd.read_excel(r'C:\\Users\\Madhan\\Desktop\\Data_Science\\Deep_Learning\\Deep_Learning_Assignment\\coalpublic2013.xlsx',sheet_name = 'coalpublic2013')\n",
    "print(df_excel)"
   ]
  },
  {
   "cell_type": "markdown",
   "metadata": {},
   "source": [
    "Q18. Write a Pandas program to import excel data (coalpublic2013.xlsx\n",
    ") into a data frame and find details where \"Mine Name\" starts with\n",
    "\"P.\n"
   ]
  },
  {
   "cell_type": "code",
   "execution_count": 17,
   "metadata": {},
   "outputs": [
    {
     "data": {
      "text/html": [
       "<div>\n",
       "<style scoped>\n",
       "    .dataframe tbody tr th:only-of-type {\n",
       "        vertical-align: middle;\n",
       "    }\n",
       "\n",
       "    .dataframe tbody tr th {\n",
       "        vertical-align: top;\n",
       "    }\n",
       "\n",
       "    .dataframe thead th {\n",
       "        text-align: right;\n",
       "    }\n",
       "</style>\n",
       "<table border=\"1\" class=\"dataframe\">\n",
       "  <thead>\n",
       "    <tr style=\"text-align: right;\">\n",
       "      <th></th>\n",
       "      <th>Year</th>\n",
       "      <th>MSHA ID</th>\n",
       "      <th>Mine_Name</th>\n",
       "      <th>Production</th>\n",
       "      <th>Labor_Hours</th>\n",
       "    </tr>\n",
       "  </thead>\n",
       "  <tbody>\n",
       "    <tr>\n",
       "      <th>13</th>\n",
       "      <td>2013</td>\n",
       "      <td>103332</td>\n",
       "      <td>Powhatan Mine</td>\n",
       "      <td>140521</td>\n",
       "      <td>61394</td>\n",
       "    </tr>\n",
       "    <tr>\n",
       "      <th>18</th>\n",
       "      <td>2013</td>\n",
       "      <td>102976</td>\n",
       "      <td>Piney Woods Preparation Plant</td>\n",
       "      <td>0</td>\n",
       "      <td>14828</td>\n",
       "    </tr>\n",
       "    <tr>\n",
       "      <th>19</th>\n",
       "      <td>2013</td>\n",
       "      <td>102976</td>\n",
       "      <td>Piney Woods Preparation Plant</td>\n",
       "      <td>0</td>\n",
       "      <td>23193</td>\n",
       "    </tr>\n",
       "    <tr>\n",
       "      <th>46</th>\n",
       "      <td>2013</td>\n",
       "      <td>103321</td>\n",
       "      <td>Poplar Springs</td>\n",
       "      <td>189370</td>\n",
       "      <td>76366</td>\n",
       "    </tr>\n",
       "  </tbody>\n",
       "</table>\n",
       "</div>"
      ],
      "text/plain": [
       "    Year  MSHA ID                      Mine_Name  Production  Labor_Hours\n",
       "13  2013   103332                  Powhatan Mine      140521        61394\n",
       "18  2013   102976  Piney Woods Preparation Plant           0        14828\n",
       "19  2013   102976  Piney Woods Preparation Plant           0        23193\n",
       "46  2013   103321                 Poplar Springs      189370        76366"
      ]
     },
     "execution_count": 17,
     "metadata": {},
     "output_type": "execute_result"
    }
   ],
   "source": [
    "import pandas as pd\n",
    "import numpy as np\n",
    "df_excel = pd.read_excel(r'C:\\Users\\Madhan\\Desktop\\Data_Science\\Deep_Learning\\Deep_Learning_Assignment\\coalpublic2013.xlsx',sheet_name = 'coalpublic2013')  \n",
    "df_excel[df_excel[\"Mine_Name\"].map(lambda x: x.startswith('P'))]"
   ]
  },
  {
   "cell_type": "markdown",
   "metadata": {},
   "source": [
    "Q19. Write a Pandas program to import excel data (employee.xlsx )\n",
    "into a Pandas dataframe and find the list of employees where\n",
    "hire_date> 01-01-07.\n"
   ]
  },
  {
   "cell_type": "code",
   "execution_count": 20,
   "metadata": {},
   "outputs": [
    {
     "data": {
      "text/html": [
       "<div>\n",
       "<style scoped>\n",
       "    .dataframe tbody tr th:only-of-type {\n",
       "        vertical-align: middle;\n",
       "    }\n",
       "\n",
       "    .dataframe tbody tr th {\n",
       "        vertical-align: top;\n",
       "    }\n",
       "\n",
       "    .dataframe thead th {\n",
       "        text-align: right;\n",
       "    }\n",
       "</style>\n",
       "<table border=\"1\" class=\"dataframe\">\n",
       "  <thead>\n",
       "    <tr style=\"text-align: right;\">\n",
       "      <th></th>\n",
       "      <th>emp_id</th>\n",
       "      <th>first_name</th>\n",
       "      <th>last_name</th>\n",
       "      <th>hire_date</th>\n",
       "    </tr>\n",
       "  </thead>\n",
       "  <tbody>\n",
       "    <tr>\n",
       "      <th>4</th>\n",
       "      <td>104</td>\n",
       "      <td>Bruce</td>\n",
       "      <td>Ernst</td>\n",
       "      <td>2007-05-21</td>\n",
       "    </tr>\n",
       "    <tr>\n",
       "      <th>7</th>\n",
       "      <td>107</td>\n",
       "      <td>Diana</td>\n",
       "      <td>Lorentz</td>\n",
       "      <td>2007-02-07</td>\n",
       "    </tr>\n",
       "    <tr>\n",
       "      <th>13</th>\n",
       "      <td>113</td>\n",
       "      <td>Luis</td>\n",
       "      <td>Popp</td>\n",
       "      <td>2007-12-07</td>\n",
       "    </tr>\n",
       "    <tr>\n",
       "      <th>19</th>\n",
       "      <td>119</td>\n",
       "      <td>Karen</td>\n",
       "      <td>Colmenares</td>\n",
       "      <td>2007-08-10</td>\n",
       "    </tr>\n",
       "  </tbody>\n",
       "</table>\n",
       "</div>"
      ],
      "text/plain": [
       "    emp_id first_name   last_name  hire_date\n",
       "4      104      Bruce       Ernst 2007-05-21\n",
       "7      107      Diana     Lorentz 2007-02-07\n",
       "13     113       Luis        Popp 2007-12-07\n",
       "19     119      Karen  Colmenares 2007-08-10"
      ]
     },
     "execution_count": 20,
     "metadata": {},
     "output_type": "execute_result"
    }
   ],
   "source": [
    "import pandas as pd\n",
    "import numpy as np\n",
    "df = pd.read_excel(r'C:\\Users\\Madhan\\Desktop\\Data_Science\\Deep_Learning\\Deep_Learning_Assignment\\employee.xlsx',sheet_name = 'Sheet1')\n",
    "df[df['hire_date'] >='01/01/2007']"
   ]
  },
  {
   "cell_type": "markdown",
   "metadata": {},
   "source": [
    "Q20. Write a Pandas program to import excel data (employee.xlsx )\n",
    "into a Pandas dataframe and find a list of the employees of a specified\n",
    "year"
   ]
  },
  {
   "cell_type": "code",
   "execution_count": 23,
   "metadata": {},
   "outputs": [
    {
     "name": "stdout",
     "output_type": "stream",
     "text": [
      "\n",
      " Hire Date:2005\n",
      "             emp_id first_name last_name\n",
      "hire_date                              \n",
      "2005-09-21     101      Neena   Kochhar\n",
      "2005-06-25     105      David    Austin\n",
      "2005-09-28     110       John      Chen\n",
      "2005-09-30     111     Ismael   Sciarra\n",
      "2005-12-24     116     Shelli     Baida\n",
      "2005-07-24     117      Sigal    Tobias\n",
      "\n",
      " Hire Date:2006\n",
      "             emp_id   first_name  last_name\n",
      "hire_date                                 \n",
      "2006-01-03     103    Alexander     Hunold\n",
      "2006-02-05     106        Valli  Pataballa\n",
      "2006-03-07     112  Jose Manuel      Urman\n",
      "2006-11-15     118          Guy     Himuro\n",
      "\n",
      " Hire Date:2006\n",
      "             emp_id first_name   last_name\n",
      "hire_date                                \n",
      "2007-05-21     104      Bruce       Ernst\n",
      "2007-02-07     107      Diana     Lorentz\n",
      "2007-12-07     113       Luis        Popp\n",
      "2007-08-10     119      Karen  Colmenares\n"
     ]
    }
   ],
   "source": [
    "import pandas as pd\n",
    "import numpy as np\n",
    "df = pd.read_excel(r'C:\\Users\\Madhan\\Desktop\\Data_Science\\Deep_Learning\\Deep_Learning_Assignment\\employee.xlsx',sheet_name = 'Sheet1')\n",
    "df2 = df.set_index(['hire_date'])\n",
    "result = df2[\"2005\"]\n",
    "print (\"\\n Hire Date:2005\\n\",result)\n",
    "result1 = df2[\"2006\"]\n",
    "print(\"\\n Hire Date:2006\\n\", result1)\n",
    "result2 = df2[\"2007\"]\n",
    "print(\"\\n Hire Date:2006\\n\",result2)"
   ]
  },
  {
   "cell_type": "markdown",
   "metadata": {},
   "source": [
    "## Great Job!"
   ]
  }
 ],
 "metadata": {
  "kernelspec": {
   "display_name": "Python 3",
   "language": "python",
   "name": "python3"
  },
  "language_info": {
   "codemirror_mode": {
    "name": "ipython",
    "version": 3
   },
   "file_extension": ".py",
   "mimetype": "text/x-python",
   "name": "python",
   "nbconvert_exporter": "python",
   "pygments_lexer": "ipython3",
   "version": "3.7.1"
  }
 },
 "nbformat": 4,
 "nbformat_minor": 2
}
